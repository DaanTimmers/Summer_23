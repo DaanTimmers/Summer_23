{
 "cells": [
  {
   "cell_type": "code",
   "execution_count": 7,
   "metadata": {},
   "outputs": [],
   "source": [
    "import numpy as np\n",
    "import matplotlib.pyplot as plt"
   ]
  },
  {
   "cell_type": "markdown",
   "metadata": {},
   "source": [
    "## Projected ensemble simulation\n",
    "\n",
    "There are some steps to this: define a wavefunction and a Hamiltonian, time-evolve, measure, obtain those moments and the trace distances."
   ]
  },
  {
   "cell_type": "code",
   "execution_count": 6,
   "metadata": {},
   "outputs": [],
   "source": [
    "## Hamiltonian: Quantum Ising spin with mixed fields (QIMF)\n",
    "\n",
    "# Parameters (as per Cotler et al.)\n",
    "h_x = 0.8090\n",
    "h_y = 0.9045\n",
    "J = 1\n",
    "\n",
    "# Pauli matrices\n",
    "sx = np.array([[0,1],[1,0]]) ;  sy = np.array([[0,-1j],[1j,0]])\n",
    "\n",
    "# Single site term\n",
    "H1 = h_x * sx + h_y * sy\n",
    "\n",
    "# Interaction term\n",
    "H2 = np.kron(sx,sx)"
   ]
  },
  {
   "cell_type": "markdown",
   "metadata": {},
   "source": [
    "Let's try a fairly brute force approach to the time evolution, just cause it's simplest and efficient simulation of time evolution is not what is relevant here. So the state is a vector, the Hamiltonian is a (sparse) matrix, which is to be exponentiated. Assume qubits, local dimension always 2."
   ]
  },
  {
   "cell_type": "code",
   "execution_count": 16,
   "metadata": {},
   "outputs": [
    {
     "ename": "AttributeError",
     "evalue": "'numpy.ndarray' object has no attribute 'dim'",
     "output_type": "error",
     "traceback": [
      "\u001b[0;31m---------------------------------------------------------------------------\u001b[0m",
      "\u001b[0;31mAttributeError\u001b[0m                            Traceback (most recent call last)",
      "Cell \u001b[0;32mIn[16], line 11\u001b[0m\n\u001b[1;32m      8\u001b[0m psi0[\u001b[39m0\u001b[39m] \u001b[39m=\u001b[39m \u001b[39m1\u001b[39m\n\u001b[1;32m     10\u001b[0m H \u001b[39m=\u001b[39m np\u001b[39m.\u001b[39mzeros((\u001b[39m2\u001b[39m\u001b[39m*\u001b[39m\u001b[39m*\u001b[39mN,\u001b[39m2\u001b[39m\u001b[39m*\u001b[39m\u001b[39m*\u001b[39mN))\n\u001b[0;32m---> 11\u001b[0m \u001b[39mprint\u001b[39m(H\u001b[39m.\u001b[39;49mdim)\n",
      "\u001b[0;31mAttributeError\u001b[0m: 'numpy.ndarray' object has no attribute 'dim'"
     ]
    }
   ],
   "source": [
    "# Some more parameters\n",
    "N_A = 3\n",
    "N_B = 9\n",
    "N = N_A + N_B\n",
    "\n",
    "# Initial state\n",
    "psi0 = np.zeros(2**N)\n",
    "psi0[0] = 1\n",
    "\n",
    "H = np.zeros()\n"
   ]
  },
  {
   "cell_type": "code",
   "execution_count": null,
   "metadata": {},
   "outputs": [],
   "source": []
  }
 ],
 "metadata": {
  "kernelspec": {
   "display_name": "py311",
   "language": "python",
   "name": "python3"
  },
  "language_info": {
   "codemirror_mode": {
    "name": "ipython",
    "version": 3
   },
   "file_extension": ".py",
   "mimetype": "text/x-python",
   "name": "python",
   "nbconvert_exporter": "python",
   "pygments_lexer": "ipython3",
   "version": "3.11.0"
  },
  "orig_nbformat": 4
 },
 "nbformat": 4,
 "nbformat_minor": 2
}
