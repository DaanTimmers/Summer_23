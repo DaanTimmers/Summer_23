{
 "cells": [
  {
   "cell_type": "code",
   "execution_count": 104,
   "metadata": {},
   "outputs": [],
   "source": [
    "import numpy as np\n",
    "import matplotlib.pyplot as plt\n",
    "import functools as ft\n",
    "from scipy.linalg import expm, sqrtm"
   ]
  },
  {
   "cell_type": "markdown",
   "metadata": {},
   "source": [
    "## Projected ensemble simulation\n",
    "\n",
    "We define a Hamiltonian following [Cotler et al.](https://doi.org/10.1103/PRXQuantum.4.010311). It is a one-dimensional spin chain with single-site mixed field terms and nearest neighbour interaction terms, without periodic boundary conditions.\n",
    "\n",
    "To simulate the dynamics use a naive approach:\n",
    "- State is a vector, Hamiltonian is a matrix\n",
    "- Exponentiate Hamiltonian to get time evolution operator\n",
    "- Matvec multiplication to get final state $\\ket{\\Psi} = U \\ket{\\Psi_0}$\n",
    "\n",
    "With my laptop this is only achievable for $N_A = 1$ and $N_B$ up to about $9$, which hopefully is sufficiently large to get a result."
   ]
  },
  {
   "cell_type": "code",
   "execution_count": 142,
   "metadata": {},
   "outputs": [],
   "source": [
    "## Hamiltonian: Quantum Ising spin with mixed fields (QIMF)\n",
    "\n",
    "# Parameters (as per Cotler et al.)\n",
    "h_x = 0.8090\n",
    "h_y = 0.9045\n",
    "J = 1\n",
    "N_A = 1\n",
    "N_B = 3\n",
    "N = N_A + N_B\n",
    "\n",
    "# Pauli matrices\n",
    "sx = np.array([[0,1],[1,0]]) ;  sy = np.array([[0,-1j],[1j,0]])\n",
    "\n",
    "# Single site term\n",
    "H1 = h_x * sx + h_y * sy\n",
    "\n",
    "# Interaction term\n",
    "H2 = J * np.kron(sx,sx)\n",
    "\n",
    "# Hamiltonian as a matrix\n",
    "H = np.zeros((2**N,2**N),dtype='complex128')\n",
    "for i in range(N):\n",
    "    H += ft.reduce(np.kron, [np.identity(2**i), H1, np.identity(2**(N-i-1))])\n",
    "for i in range(N-2):\n",
    "    H += ft.reduce(np.kron, [np.identity(2**i), H2, np.identity(2**(N-i-2))])\n",
    "\n",
    "# Initial state: all |0>\n",
    "Psi0 = np.zeros(2**N)\n",
    "Psi0[0] = 1"
   ]
  },
  {
   "cell_type": "markdown",
   "metadata": {},
   "source": [
    "Next, a function to get the projected ensemble as a list. Just get a single state for now. The first qubit is taken to be subsystem $A$, all the others form subsystem $B$."
   ]
  },
  {
   "cell_type": "code",
   "execution_count": 82,
   "metadata": {},
   "outputs": [],
   "source": [
    "# First, getting a projected ensemble from the most literal, obvious way: by defining projectors for each measurement outcome\n",
    "\n",
    "def PrEns(Psi):\n",
    "    # Define empty ensemble\n",
    "    PrEns = np.empty((2**N_B, 2)).tolist()\n",
    "\n",
    "    # Loop over |z_B>, make projectors\n",
    "    for i in range(2**N_B):\n",
    "        z_B = np.zeros(2**N_B)\n",
    "        z_B[i] = 1\n",
    "        P = np.kron(np.identity(2**N_A), np.outer(z_B,z_B))\n",
    "\n",
    "        Psi_zB = P @ Psi\n",
    "\n",
    "        # Pick out probability (norm), then normalise, then get PsiA\n",
    "        PrEns[i][0] = np.linalg.norm(Psi_zB) ** 2\n",
    "        Psi_zB /= np.linalg.norm(Psi_zB)\n",
    "        PrEns[i][1] = Psi_zB.reshape(2**N_A, 2**N_B)[:,i]\n",
    "    \n",
    "    return PrEns\n",
    "\n",
    "# Then I realised, as the labelling zB is not that important to get the moments, we can just read everything off\n",
    "\n",
    "def PrEns_quick(Psi):\n",
    "    PrEns = np.empty((2**N_B, 2)).tolist()\n",
    "\n",
    "    for i in range(2**N_B):\n",
    "        PsiA = Psi.reshape(2**N_A, 2**N_B)[:,i]\n",
    "        PrEns[i][0] = np.linalg.norm(PsiA) ** 2\n",
    "        PrEns[i][1] = PsiA / np.linalg.norm(PsiA)\n",
    "    \n",
    "    return PrEns\n",
    "\n",
    "# A quick check confirms these give the same, so no outer products / matrix vector multiplication is needed.\n"
   ]
  },
  {
   "cell_type": "markdown",
   "metadata": {},
   "source": [
    "Now next step is to get these moments and compare to the Haar ensemble. If I do $k = 1, 2, 3$ only I can use the minimal 3-design which I think is easiest.\n",
    "- Get a function to return the k-th moment\n",
    "- Figure out that trace norm they use\n",
    "\n",
    "For now to keep it simple just take $N_A = 1$ everywhere, even though that is less general"
   ]
  },
  {
   "cell_type": "code",
   "execution_count": 131,
   "metadata": {},
   "outputs": [],
   "source": [
    "# minimal 3-design, only for one qubit!!\n",
    "\n",
    "Design_3 = [[1/6, np.array([1, 0])],\n",
    "            [1/6, np.array([0, 1])],\n",
    "            [1/6, np.array([np.sqrt(1/2), np.sqrt(1/2)])],\n",
    "            [1/6, np.array([np.sqrt(1/2), -np.sqrt(1/2)])],\n",
    "            [1/6, np.array([np.sqrt(1/2), np.sqrt(1/2) * 1j])],\n",
    "            [1/6, np.array([np.sqrt(1/2), -np.sqrt(1/2) * 1j])]]\n",
    "\n",
    "# Let's start with density matrices. For the 3-design:\n",
    "\n",
    "rho_1_Haar = np.zeros((2,2),dtype='complex128')\n",
    "for i in range(6):\n",
    "    rho_1_Haar += Design_3[i][0] * np.outer(np.conjugate(Design_3[i][1]), Design_3[i][1])\n",
    "\n",
    "\n",
    "# Then the trace distance measure, for matrices.\n",
    "\n",
    "def trace_dist(rho,sigma):\n",
    "    evals, evec = np.linalg.eigh(rho-sigma)\n",
    "    dist = 0\n",
    "    for eval in evals:\n",
    "        dist += abs(eval)\n",
    "    dist /= 2\n",
    "\n",
    "    return dist\n"
   ]
  },
  {
   "cell_type": "code",
   "execution_count": 143,
   "metadata": {},
   "outputs": [
    {
     "name": "stderr",
     "output_type": "stream",
     "text": [
      "/var/folders/jp/3pg31pr14qv9d64r8h1jy0mc0000gn/T/ipykernel_7920/2629286713.py:30: RuntimeWarning: invalid value encountered in divide\n",
      "  PrEns[i][1] = PsiA / np.linalg.norm(PsiA)\n"
     ]
    },
    {
     "data": {
      "image/png": "[encoded data removed]",
      "text/plain": [
       "<Figure size 640x480 with 1 Axes>"
      ]
     },
     "metadata": {},
     "output_type": "display_data"
    }
   ],
   "source": [
    "# A test: trace distances for the density matrix\n",
    "\n",
    "times = np.linspace(0,10,50)\n",
    "dist = np.zeros(np.size(times))\n",
    "\n",
    "for i, t in enumerate(times):\n",
    "    U = expm(-t * 1j * H)\n",
    "    Psi = U @ Psi0\n",
    "    PrEns = PrEns_quick(Psi)\n",
    "\n",
    "    # Get the density matrices\n",
    "    rho_1_sim = np.zeros((2,2),dtype='complex128')\n",
    "    for j in range(2**N_B):\n",
    "        rho_1_sim += PrEns[j][0] * np.outer(np.conjugate(PrEns[j][1]), PrEns[j][1])\n",
    "\n",
    "    dist[i] = trace_dist(rho_1_Haar,rho_1_sim)\n",
    "\n",
    "fig = plt.figure()\n",
    "plt.plot(times, dist)\n",
    "plt.show()\n",
    "\n",
    "\n"
   ]
  }
 ],
 "metadata": {
  "kernelspec": {
   "display_name": "py311",
   "language": "python",
   "name": "python3"
  },
  "language_info": {
   "codemirror_mode": {
    "name": "ipython",
    "version": 3
   },
   "file_extension": ".py",
   "mimetype": "text/x-python",
   "name": "python",
   "nbconvert_exporter": "python",
   "pygments_lexer": "ipython3",
   "version": "3.11.0"
  },
  "orig_nbformat": 4
 },
 "nbformat": 4,
 "nbformat_minor": 2
}
