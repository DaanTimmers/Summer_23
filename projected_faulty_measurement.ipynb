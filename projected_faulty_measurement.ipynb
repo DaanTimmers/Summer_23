{
 "cells": [
  {
   "cell_type": "code",
   "execution_count": 2,
   "metadata": {},
   "outputs": [],
   "source": [
    "import numpy as np\n",
    "import matplotlib.pyplot as plt\n",
    "import functools as ft\n",
    "from scipy.linalg import expm\n",
    "from scipy.stats import unitary_group"
   ]
  },
  {
   "cell_type": "markdown",
   "metadata": {},
   "source": [
    "# Projected mixed state ensembles: Model 2"
   ]
  },
  {
   "cell_type": "code",
   "execution_count": 3,
   "metadata": {},
   "outputs": [],
   "source": [
    "# Parameters\n",
    "N_A = 1\n",
    "N_B = 1\n",
    "N = N_A + N_B\n",
    "\n",
    "def random_state(d):\n",
    "    '''Produces a Haar random state in d-dimensional Hilbert space as a numpy array.'''\n",
    "    U = unitary_group.rvs(d)\n",
    "    psi0 = np.zeros(d, dtype='complex128')\n",
    "    psi0[0] = 1\n",
    "    \n",
    "    return U @ psi0\n",
    "\n",
    "def Hamming(str_a, str_b):\n",
    "    '''Returns the Hamming distance of two equal length strings'''\n",
    "    Hamming = 0\n",
    "    for i in range(len(str_a)):\n",
    "        if str_a[i] != str_b[i]:\n",
    "            Hamming += 1\n",
    "    return Hamming\n",
    "\n",
    "def bitstring(i, N_B):\n",
    "    '''Returns the bitstring of N_B bits that corresponds to the base-10 integer i, for i between 0 and 2**N_B.'''\n",
    "    return format(i, f'0{N_B}b')\n",
    "\n",
    "def error_prob(m, m_prime, N_B, p):\n",
    "    '''\n",
    "    For single independent bitflip errors with probability p, returns the probability of reading m_prime for a true outcome m,\n",
    "    for m and m_prime input as base-10 integers between 0 and 2**N_B.\n",
    "    '''\n",
    "    str_m = format(m, f'0{N_B}b')\n",
    "    str_m_prime = format(m_prime, f'0{N_B}b')\n",
    "    num_errors = Hamming(str_m, str_m_prime)\n",
    "    prob = (p ** num_errors) * ((1-p) ** (N_B - num_errors))\n",
    "\n",
    "    return prob\n",
    "\n",
    "# From previous work: get projected ensemble on A from a state in AB\n",
    "\n",
    "def Get_PrEns(Psi, N_A, N_B):\n",
    "    PrEns = np.empty((2**N_B, 2)).tolist()\n",
    "\n",
    "    for i in range(2**N_B):\n",
    "        PsiA = Psi.reshape(2**N_A, 2**N_B)[:,i]\n",
    "        PrEns[i][0] = np.linalg.norm(PsiA) ** 2\n",
    "        PrEns[i][1] = PsiA / np.linalg.norm(PsiA)\n",
    "    \n",
    "    return PrEns\n",
    "\n",
    "def Get_MixEns(PrEns, N_A, N_B, p):\n",
    "    '''From a pure ensemble, return a mixed ensemble given an independent bitflip error p'''\n",
    "    MixEns = np.empty((2 ** N_B, 2)).tolist()\n",
    "\n",
    "    for m_prime in range(2 ** N_B):\n",
    "        rho = np.zeros((2 ** N_A, 2 ** N_A), dtype='complex128')\n",
    "        p_m_prime = 0\n",
    "\n",
    "        for m in range(2 ** N_B):\n",
    "            cond_prob = error_prob(m, m_prime, N_B, p)\n",
    "            p_m_prime += cond_prob * PrEns[m][0]\n",
    "            rho += cond_prob * np.outer(np.conjugate(PrEns[m][1]), PrEns[m][1])\n",
    "\n",
    "        MixEns[m_prime][0] = p_m_prime\n",
    "        MixEns[m_prime][1] = rho\n",
    "\n",
    "    return MixEns"
   ]
  },
  {
   "cell_type": "code",
   "execution_count": 87,
   "metadata": {},
   "outputs": [
    {
     "name": "stdout",
     "output_type": "stream",
     "text": [
      "1.0000000000000009\n",
      "0.9999999999999994\n",
      "1.0000000000000007\n",
      "1.0000000000000002\n",
      "1.0000000000000009\n",
      "1.0000000000000004\n",
      "1.0000000000000007\n",
      "0.9999999999999999\n",
      "1.0000000000000007\n",
      "1.0000000000000009\n"
     ]
    }
   ],
   "source": [
    "N_A = 1\n",
    "N_B = 7\n",
    "p = 0.2\n",
    "\n",
    "traces = np.zeros(10)\n",
    "purities = np.zeros(10)\n",
    "thirds = np.zeros(10)\n",
    "\n",
    "for j in range(10):\n",
    "    Psi = random_state(2**8)\n",
    "    Projected_ensemble = Get_PrEns(Psi, N_A, N_B)\n",
    "    Mixed_ensemble = Get_MixEns(Projected_ensemble, N_A, N_B, p)\n",
    "\n",
    "    trace = 0\n",
    "    purity = 0\n",
    "    third = 0\n",
    "\n",
    "    for i in range(len(Mixed_ensemble)):\n",
    "        p = Mixed_ensemble[i][0]\n",
    "        rho = Mixed_ensemble[i][1]\n",
    "        trace += p * np.trace(rho)\n",
    "        purity += p * np.trace(rho @ rho)\n",
    "        third += p * np.trace(rho @ rho @ rho)\n",
    "    \n",
    "    traces[j] = np.real(trace)\n",
    "    purities[j] = np.real(purity)\n",
    "    thirds[j] = np.real(third)\n"
   ]
  }
 ],
 "metadata": {
  "kernelspec": {
   "display_name": "py311",
   "language": "python",
   "name": "python3"
  },
  "language_info": {
   "codemirror_mode": {
    "name": "ipython",
    "version": 3
   },
   "file_extension": ".py",
   "mimetype": "text/x-python",
   "name": "python",
   "nbconvert_exporter": "python",
   "pygments_lexer": "ipython3",
   "version": "3.11.0"
  },
  "orig_nbformat": 4
 },
 "nbformat": 4,
 "nbformat_minor": 2
}
