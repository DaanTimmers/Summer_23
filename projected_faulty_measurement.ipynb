{
 "cells": [
  {
   "cell_type": "code",
   "execution_count": 65,
   "metadata": {},
   "outputs": [],
   "source": [
    "import numpy as np\n",
    "import matplotlib.pyplot as plt\n",
    "import functools as ft\n",
    "from scipy.linalg import expm\n",
    "from scipy.stats import unitary_group"
   ]
  },
  {
   "cell_type": "markdown",
   "metadata": {},
   "source": [
    "# Projected mixed state ensembles: Model 2"
   ]
  },
  {
   "cell_type": "code",
   "execution_count": 72,
   "metadata": {},
   "outputs": [],
   "source": [
    "# Parameters\n",
    "N_A = 1\n",
    "N_B = 1\n",
    "N = N_A + N_B\n",
    "\n",
    "def random_state(d):\n",
    "    '''Produces a Haar random state in d-dimensional Hilbert space as a numpy array.'''\n",
    "    U = unitary_group.rvs(d)\n",
    "    psi0 = np.zeros(d, dtype='complex128')\n",
    "    psi0[0] = 1\n",
    "    \n",
    "    return U @ psi0\n",
    "\n",
    "def Hamming(str_a, str_b):\n",
    "    '''Returns the Hamming distance of two equal length strings'''\n",
    "    Hamming = 0\n",
    "    for i in range(len(str_a)):\n",
    "        if str_a[i] != str_b[i]:\n",
    "            Hamming += 1\n",
    "    return Hamming\n",
    "\n",
    "def bitstring(i, N_B):\n",
    "    '''Returns the bitstring of N_B bits that corresponds to the base-10 integer i, for i between 0 and 2**N_B.'''\n",
    "    return format(i, f'0{N_B}b')\n",
    "\n",
    "def error_prob(m, m_prime, N_B, p):\n",
    "    '''\n",
    "    For single independent bitflip errors with probability p, returns the probability of reading m_prime for a true outcome m,\n",
    "    for m and m_prime input as base-10 integers between 0 and 2**N_B.\n",
    "    '''\n",
    "    str_m = format(m, f'0{N_B}b')\n",
    "    str_m_prime = format(m_prime, f'0{N_B}b')\n",
    "    num_errors = Hamming(str_m, str_m_prime)\n",
    "    prob = (p ** num_errors) * ((1-p) ** (N_B - num_errors))\n",
    "\n",
    "    return prob\n",
    "\n",
    "# From previous work: get projected ensemble on A from a state in AB\n",
    "\n",
    "def Get_PrEns(Psi, N_A, N_B):\n",
    "    PrEns = np.empty((2**N_B, 2)).tolist()\n",
    "\n",
    "    for i in range(2**N_B):\n",
    "        PsiA = Psi.reshape(2**N_A, 2**N_B)[:,i]\n",
    "        PrEns[i][0] = np.linalg.norm(PsiA) ** 2\n",
    "        PrEns[i][1] = PsiA / np.linalg.norm(PsiA)\n",
    "    \n",
    "    return PrEns\n",
    "\n",
    "def Get_MixEns(PrEns, N_A, N_B, p):\n",
    "    '''From a pure ensemble, return a mixed ensemble given an independent bitflip error p'''\n",
    "    MixEns = np.empty((2 ** N_B, 2)).tolist()\n",
    "\n",
    "    for m_prime in range(2 ** N_B):\n",
    "        rho = np.zeros((2 ** N_A, 2 ** N_A), dtype='complex128')\n",
    "        p_m_prime = 0\n",
    "\n",
    "        for m in range(2 ** N_B):\n",
    "            cond_prob = error_prob(m, m_prime, N_B, p)\n",
    "            p_m_prime += cond_prob * PrEns[m][0]\n",
    "            rho += cond_prob * np.outer(np.conjugate(PrEns[m][1]), PrEns[m][1])\n",
    "\n",
    "        MixEns[m_prime][0] = p_m_prime\n",
    "        MixEns[m_prime][1] = rho\n",
    "\n",
    "    return MixEns"
   ]
  },
  {
   "cell_type": "code",
   "execution_count": 71,
   "metadata": {},
   "outputs": [
    {
     "name": "stdout",
     "output_type": "stream",
     "text": [
      "[[0.340613983760482, array([[ 0.84877607+0.j        , -0.15355461-0.06639505j],\n",
      "       [-0.15355461+0.06639505j,  0.15122393+0.j        ]])], [0.10804238281824599, array([[ 0.34657808+0.j        , -0.20811278+0.26969462j],\n",
      "       [-0.20811278-0.26969462j,  0.65342192+0.j        ]])], [0.3799084684808134, array([[ 0.47946224+0.j        , -0.41987235+0.09737188j],\n",
      "       [-0.41987235-0.09737188j,  0.52053776+0.j        ]])], [0.17143516494045843, array([[ 0.58303317+0.j        , -0.3550078 -0.20790181j],\n",
      "       [-0.3550078 +0.20790181j,  0.41696683+0.j        ]])]]\n"
     ]
    }
   ],
   "source": [
    "N_A = 1\n",
    "N_B = 2\n",
    "p = 0.1\n",
    "\n",
    "Psi = random_state(2 ** (N_A + N_B))\n",
    "Projected_ensemble = Get_PrEns(Psi, N_A, N_B)\n",
    "Mixed_ensemble = Get_MixEns(Projected_ensemble, N_A, N_B, p)\n",
    "\n",
    "print(Mixed_ensemble)"
   ]
  }
 ],
 "metadata": {
  "kernelspec": {
   "display_name": "py311",
   "language": "python",
   "name": "python3"
  },
  "language_info": {
   "codemirror_mode": {
    "name": "ipython",
    "version": 3
   },
   "file_extension": ".py",
   "mimetype": "text/x-python",
   "name": "python",
   "nbconvert_exporter": "python",
   "pygments_lexer": "ipython3",
   "version": "3.11.0"
  },
  "orig_nbformat": 4
 },
 "nbformat": 4,
 "nbformat_minor": 2
}
